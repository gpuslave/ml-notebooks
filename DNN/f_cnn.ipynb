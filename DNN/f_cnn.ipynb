{
 "cells": [
  {
   "cell_type": "markdown",
   "metadata": {},
   "source": [
    "## Convolutional Neural Network for multi-class classificaiton on MNIST fashion dataset"
   ]
  },
  {
   "cell_type": "markdown",
   "metadata": {},
   "source": [
    "### First step: loading libraries\n",
    "run:\n",
    "`pip install torch torchvision numpy matplotlib`"
   ]
  },
  {
   "cell_type": "code",
   "execution_count": 1,
   "metadata": {},
   "outputs": [],
   "source": [
    "import torch\n",
    "import torchvision\n",
    "import numpy as np\n",
    "import matplotlib.pyplot as plt\n",
    "from torch import nn\n",
    "from torchvision import transforms\n",
    "from torch.utils.data import DataLoader, Subset\n"
   ]
  },
  {
   "cell_type": "code",
   "execution_count": 2,
   "metadata": {},
   "outputs": [
    {
     "name": "stdout",
     "output_type": "stream",
     "text": [
      "Using: CUDA\n"
     ]
    }
   ],
   "source": [
    "device = torch.device(\"cuda\" if torch.cuda.is_available() else \"cpu\")\n",
    "print(f\"Using: {device.__str__().upper()}\")"
   ]
  },
  {
   "cell_type": "markdown",
   "metadata": {},
   "source": [
    "### Downloading fashion MNIST dataset using pytorch"
   ]
  },
  {
   "cell_type": "code",
   "execution_count": 3,
   "metadata": {},
   "outputs": [],
   "source": [
    "# training set\n",
    "dataset = torchvision.datasets.FashionMNIST(\n",
    "    root=\"./\",\n",
    "    train=True,\n",
    "    transform=transforms.ToTensor(),\n",
    "    download=True,\n",
    ")\n",
    "\n",
    "# set for model performance evaluation \n",
    "evalset = torchvision.datasets.FashionMNIST(\n",
    "    root=\"./\",\n",
    "    train=False,\n",
    "    transform=transforms.ToTensor(),\n",
    "    download=False,\n",
    ")\n"
   ]
  },
  {
   "cell_type": "code",
   "execution_count": 4,
   "metadata": {},
   "outputs": [
    {
     "name": "stdout",
     "output_type": "stream",
     "text": [
      "<class 'torchvision.datasets.mnist.FashionMNIST'>\n",
      "torch.Size([60000, 28, 28])\n"
     ]
    }
   ],
   "source": [
    "\n",
    "print(type(dataset))\n",
    "print(dataset.data.shape)"
   ]
  },
  {
   "cell_type": "markdown",
   "metadata": {},
   "source": [
    "### Validation/Training split"
   ]
  },
  {
   "cell_type": "code",
   "execution_count": 5,
   "metadata": {},
   "outputs": [
    {
     "name": "stdout",
     "output_type": "stream",
     "text": [
      "60000\n"
     ]
    }
   ],
   "source": [
    "print(len(dataset)) # 60_000\n",
    "\n",
    "validation = Subset(dataset, torch.arange(10000))\n",
    "training = Subset(dataset, torch.arange(10000, len(dataset)))\n"
   ]
  },
  {
   "cell_type": "code",
   "execution_count": 6,
   "metadata": {},
   "outputs": [
    {
     "name": "stdout",
     "output_type": "stream",
     "text": [
      "<class 'torch.utils.data.dataset.Subset'>\n"
     ]
    }
   ],
   "source": [
    "print(type(validation))"
   ]
  },
  {
   "cell_type": "markdown",
   "metadata": {},
   "source": [
    "### Configure loading of data into the future model"
   ]
  },
  {
   "cell_type": "code",
   "execution_count": 7,
   "metadata": {},
   "outputs": [],
   "source": [
    "torch.manual_seed(1)  # numgen seed\n",
    "batch_size = 64\n",
    "\n",
    "# shuffle for more diversity in batches\n",
    "train_loader = DataLoader(\n",
    "    training,\n",
    "    batch_size,\n",
    "    shuffle=True,\n",
    ")\n",
    "\n",
    "validation_loader = DataLoader(\n",
    "    validation,\n",
    "    batch_size,\n",
    "    shuffle=False,\n",
    ")\n"
   ]
  },
  {
   "cell_type": "markdown",
   "metadata": {},
   "source": [
    "### Model creation"
   ]
  },
  {
   "cell_type": "code",
   "execution_count": 8,
   "metadata": {},
   "outputs": [
    {
     "name": "stdout",
     "output_type": "stream",
     "text": [
      "torch.Size([2, 64, 28, 28])\n",
      "torch.Size([2, 64, 14, 14])\n",
      "torch.Size([2, 128, 14, 14])\n",
      "torch.Size([2, 128, 14, 14])\n",
      "torch.Size([2, 128, 7, 7])\n",
      "torch.Size([2, 256, 7, 7])\n",
      "torch.Size([2, 256, 7, 7])\n",
      "torch.Size([2, 256, 3, 3])\n",
      "torch.Size([2, 2304])\n",
      "torch.Size([2, 10])\n",
      "tensor([[ 0.1206,  0.1121, -0.1048, -0.0698, -0.0943, -0.1688,  0.1246,  0.0670,\n",
      "         -0.0523,  0.1076],\n",
      "        [ 0.1029,  0.1019, -0.0285, -0.0723, -0.0945, -0.1673,  0.1610,  0.0513,\n",
      "         -0.0539,  0.0782]], grad_fn=<AddmmBackward0>)\n"
     ]
    }
   ],
   "source": [
    "test_shape = torch.ones((2, 1, 28, 28))\n",
    "\n",
    "model = nn.Sequential()\n",
    "\n",
    "model.add_module(\n",
    "    \"Convolution_1\",\n",
    "    nn.Conv2d(\n",
    "        in_channels=1,\n",
    "        out_channels=64,\n",
    "        kernel_size=7,\n",
    "        padding=\"same\",\n",
    "    ),\n",
    ")\n",
    "\n",
    "model.add_module(\"Relu_1\", nn.ReLU())\n",
    "\n",
    "print(model(test_shape).shape)\n",
    "\n",
    "model.add_module(\"Pool_1\", nn.MaxPool2d(kernel_size=2))\n",
    "\n",
    "print(model(test_shape).shape)\n",
    "\n",
    "model.add_module(\n",
    "    \"Convolution_2\",\n",
    "    nn.Conv2d(\n",
    "        in_channels=64,\n",
    "        out_channels=128,\n",
    "        kernel_size=3,\n",
    "        padding=\"same\",\n",
    "    ),\n",
    ")\n",
    "\n",
    "model.add_module(\"Relu_2\", nn.ReLU())\n",
    "\n",
    "print(model(test_shape).shape)\n",
    "\n",
    "model.add_module(\n",
    "    \"Convolution_3\",\n",
    "    nn.Conv2d(\n",
    "        in_channels=128,\n",
    "        out_channels=128,\n",
    "        kernel_size=3,\n",
    "        padding=\"same\",\n",
    "    ),\n",
    ")\n",
    "\n",
    "model.add_module(\"Relu_3\", nn.ReLU())\n",
    "\n",
    "print(model(test_shape).shape)\n",
    "\n",
    "model.add_module(\"Pool_2\", nn.MaxPool2d(kernel_size=2))\n",
    "\n",
    "print(model(test_shape).shape)\n",
    "\n",
    "model.add_module(\n",
    "    \"Convolution_4\",\n",
    "    nn.Conv2d(\n",
    "        in_channels=128,\n",
    "        out_channels=256,\n",
    "        kernel_size=3,\n",
    "        padding=\"same\",\n",
    "    ),\n",
    ")\n",
    "\n",
    "model.add_module(\"Relu_4\", nn.ReLU())\n",
    "\n",
    "print(model(test_shape).shape)\n",
    "\n",
    "model.add_module(\n",
    "    \"Convolution_5\",\n",
    "    nn.Conv2d(\n",
    "        in_channels=256,\n",
    "        out_channels=256,\n",
    "        kernel_size=3,\n",
    "        padding=\"same\",\n",
    "    ),\n",
    ")\n",
    "\n",
    "model.add_module(\"Relu_5\", nn.ReLU())\n",
    "\n",
    "print(model(test_shape).shape)\n",
    "\n",
    "model.add_module(\"Pool_3\", nn.MaxPool2d(kernel_size=2))\n",
    "\n",
    "print(model(test_shape).shape)\n",
    "\n",
    "model.add_module('Flatten', nn.Flatten())\n",
    "\n",
    "print(model(test_shape).shape)\n",
    "\n",
    "model.add_module(\"FC_1\", nn.Linear(256 * 3 * 3, 128))\n",
    "model.add_module(\"Relu_6\", nn.ReLU())\n",
    "model.add_module(\"dropout_1\", nn.Dropout(0.5))\n",
    "model.add_module(\"FC_2\", nn.Linear(128, 64))\n",
    "model.add_module(\"Relu_7\", nn.ReLU())\n",
    "model.add_module(\"dropout_2\", nn.Dropout(0.5))\n",
    "model.add_module(\"FC_3\", nn.Linear(64, 10))\n",
    "\n",
    "\n",
    "print(model(test_shape).shape)\n",
    "print(model(test_shape))"
   ]
  },
  {
   "cell_type": "code",
   "execution_count": 9,
   "metadata": {},
   "outputs": [],
   "source": [
    "loss_fn = nn.CrossEntropyLoss().to(device)\n",
    "optimizer = torch.optim.Adam(model.parameters())\n"
   ]
  },
  {
   "cell_type": "code",
   "execution_count": 10,
   "metadata": {},
   "outputs": [],
   "source": [
    "def train(model, num_epochs, train_dl, valid_dl):\n",
    "    model = model.to(device)\n",
    "    loss_hist_train = [0] * num_epochs\n",
    "    accuracy_hist_train = [0] * num_epochs\n",
    "\n",
    "    loss_hist_valid = [0] * num_epochs\n",
    "    accuracy_hist_valid = [0] * num_epochs\n",
    "\n",
    "    for epoch in range(num_epochs):\n",
    "        model.train()\n",
    "        for x_batch, y_batch in train_dl:\n",
    "            x_batch, y_batch = x_batch.to(device), y_batch.to(device)\n",
    "            pred = model(x_batch)\n",
    "\n",
    "            loss = loss_fn(pred, y_batch)\n",
    "            loss.backward()\n",
    "\n",
    "            optimizer.step()\n",
    "            optimizer.zero_grad()\n",
    "\n",
    "            loss_hist_train[epoch] += loss.item() * y_batch.size(0)\n",
    "\n",
    "            is_correct = (torch.argmax(pred, dim=1) == y_batch).float()\n",
    "\n",
    "            accuracy_hist_train[epoch] += is_correct.sum().item()\n",
    "        loss_hist_train[epoch] /= len(train_dl.dataset)\n",
    "        accuracy_hist_train[epoch] /= len(train_dl.dataset)\n",
    "\n",
    "        model.eval()\n",
    "\n",
    "        with torch.no_grad():\n",
    "            for x_batch, y_batch in valid_dl:\n",
    "                x_batch, y_batch = x_batch.to(device), y_batch.to(device)\n",
    "                pred = model(x_batch)\n",
    "\n",
    "                loss = loss_fn(pred, y_batch)\n",
    "                loss_hist_valid[epoch] += loss.item() * y_batch.size(0)\n",
    "\n",
    "                is_correct = (torch.argmax(pred, dim=1) == y_batch).float()\n",
    "                accuracy_hist_valid[epoch] += is_correct.sum().item()\n",
    "\n",
    "        loss_hist_valid[epoch] /= len(valid_dl.dataset)\n",
    "        accuracy_hist_valid[epoch] /= len(valid_dl.dataset)\n",
    "\n",
    "        print(\n",
    "            f\"Epoch {epoch+1}: \\n train_acc = {accuracy_hist_train[epoch]:.4f} \\n valid_acc = {accuracy_hist_valid[epoch]:.4f}\"\n",
    "        )\n",
    "\n",
    "    return loss_hist_train, loss_hist_valid, accuracy_hist_train, accuracy_hist_valid\n"
   ]
  },
  {
   "cell_type": "code",
   "execution_count": 16,
   "metadata": {},
   "outputs": [
    {
     "name": "stdout",
     "output_type": "stream",
     "text": [
      "Epoch 1: \n",
      " train_acc = 0.9087 \n",
      " valid_acc = 0.9066\n",
      "Epoch 2: \n",
      " train_acc = 0.9155 \n",
      " valid_acc = 0.9134\n",
      "Epoch 3: \n",
      " train_acc = 0.9186 \n",
      " valid_acc = 0.9048\n",
      "Epoch 4: \n",
      " train_acc = 0.9239 \n",
      " valid_acc = 0.9179\n",
      "Epoch 5: \n",
      " train_acc = 0.9275 \n",
      " valid_acc = 0.9173\n",
      "Epoch 6: \n",
      " train_acc = 0.9306 \n",
      " valid_acc = 0.9102\n",
      "Epoch 7: \n",
      " train_acc = 0.9323 \n",
      " valid_acc = 0.9191\n",
      "Epoch 8: \n",
      " train_acc = 0.9394 \n",
      " valid_acc = 0.9202\n",
      "Epoch 9: \n",
      " train_acc = 0.9411 \n",
      " valid_acc = 0.9165\n",
      "Epoch 10: \n",
      " train_acc = 0.9418 \n",
      " valid_acc = 0.9119\n",
      "Epoch 11: \n",
      " train_acc = 0.9475 \n",
      " valid_acc = 0.9111\n",
      "Epoch 12: \n",
      " train_acc = 0.9504 \n",
      " valid_acc = 0.9186\n",
      "Epoch 13: \n",
      " train_acc = 0.9524 \n",
      " valid_acc = 0.9222\n",
      "Epoch 14: \n",
      " train_acc = 0.9540 \n",
      " valid_acc = 0.9161\n",
      "Epoch 15: \n",
      " train_acc = 0.9568 \n",
      " valid_acc = 0.9215\n",
      "Epoch 16: \n",
      " train_acc = 0.9583 \n",
      " valid_acc = 0.9142\n",
      "Epoch 17: \n",
      " train_acc = 0.9601 \n",
      " valid_acc = 0.9172\n",
      "Epoch 18: \n",
      " train_acc = 0.9582 \n",
      " valid_acc = 0.9172\n",
      "Epoch 19: \n",
      " train_acc = 0.9644 \n",
      " valid_acc = 0.9144\n",
      "Epoch 20: \n",
      " train_acc = 0.9630 \n",
      " valid_acc = 0.9220\n"
     ]
    }
   ],
   "source": [
    "epochs = 20\n",
    "inference = train(\n",
    "    model,\n",
    "    epochs,\n",
    "    train_loader,\n",
    "    validation_loader,\n",
    ")\n"
   ]
  },
  {
   "cell_type": "code",
   "execution_count": 17,
   "metadata": {},
   "outputs": [
    {
     "data": {
      "image/png": "[encoded data removed]",
      "text/plain": [
       "<Figure size 1000x500 with 2 Axes>"
      ]
     },
     "metadata": {},
     "output_type": "display_data"
    }
   ],
   "source": [
    "x_arr = np.arange(len(inference[0])) + 1\n",
    "fig = plt.figure(figsize=(10, 5))\n",
    "\n",
    "# loss\n",
    "ax = fig.add_subplot(1, 2, 1)\n",
    "ax.plot(x_arr, inference[0], \"--*\", label=\"Train loss\", color=\"black\")\n",
    "ax.plot(x_arr, inference[1], \"--x\", label=\"Validation loss\", color=\"orange\")\n",
    "ax.legend()\n",
    "ax.set_xlabel(\"epoch\")\n",
    "ax.set_ylabel(\"loss\")\n",
    "ax.xaxis.get_major_locator().set_params(integer=True)\n",
    "\n",
    "# acc\n",
    "ax = fig.add_subplot(1, 2, 2)\n",
    "ax.plot(x_arr, inference[2], \"--*\", label=\"Train acc\", color=\"black\")\n",
    "ax.plot(x_arr, inference[3], \"--x\", label=\"Validation acc\", color=\"orange\")\n",
    "ax.legend()\n",
    "ax.set_xlabel(\"epoch\")\n",
    "ax.set_ylabel(\"acc\")\n",
    "ax.xaxis.get_major_locator().set_params(integer=True)\n",
    "\n",
    "plt.show()\n"
   ]
  }
 ],
 "metadata": {
  "kernelspec": {
   "display_name": ".venv",
   "language": "python",
   "name": "python3"
  },
  "language_info": {
   "codemirror_mode": {
    "name": "ipython",
    "version": 3
   },
   "file_extension": ".py",
   "mimetype": "text/x-python",
   "name": "python",
   "nbconvert_exporter": "python",
   "pygments_lexer": "ipython3",
   "version": "3.12.5"
  }
 },
 "nbformat": 4,
 "nbformat_minor": 2
}
