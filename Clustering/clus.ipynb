{
 "cells": [
  {
   "cell_type": "code",
   "execution_count": 21,
   "metadata": {},
   "outputs": [
    {
     "name": "stdout",
     "output_type": "stream",
     "text": [
      "[[[1 2 1]\n",
      "  [3 1 2]]\n",
      "\n",
      " [[2 1 1]\n",
      "  [1 0 3]]\n",
      "\n",
      " [[3 2 1]\n",
      "  [1 0 0]]] (3, 2, 3)\n",
      "[[1 2 1]\n",
      " [3 1 2]\n",
      " [2 1 1]\n",
      " [1 0 3]\n",
      " [3 2 1]\n",
      " [1 0 0]]\n",
      "   red  green  blue\n",
      "0    1      2     1\n",
      "1    3      1     2\n",
      "2    2      1     1\n",
      "3    1      0     3\n",
      "4    3      2     1\n",
      "5    1      0     0\n"
     ]
    }
   ],
   "source": [
    "import numpy as np\n",
    "import pandas as pd\n",
    "\n",
    "arr = np.array(\n",
    "    [\n",
    "        [\n",
    "            [1, 2, 1],\n",
    "            [3, 1, 2],\n",
    "        ],\n",
    "        [\n",
    "            [2, 1, 1],\n",
    "            [1, 0, 3],\n",
    "        ],\n",
    "        [\n",
    "            [3, 2, 1],\n",
    "            [1, 0, 0],\n",
    "        ],\n",
    "    ]\n",
    ")\n",
    "print(arr, arr.shape)\n",
    "print(arr.reshape(-1, 3))\n",
    "df = pd.DataFrame(arr.reshape(-1, 3), columns=[\"red\", \"green\", \"blue\"])\n",
    "print(df)\n"
   ]
  }
 ],
 "metadata": {
  "kernelspec": {
   "display_name": ".venv",
   "language": "python",
   "name": "python3"
  },
  "language_info": {
   "codemirror_mode": {
    "name": "ipython",
    "version": 3
   },
   "file_extension": ".py",
   "mimetype": "text/x-python",
   "name": "python",
   "nbconvert_exporter": "python",
   "pygments_lexer": "ipython3",
   "version": "3.12.5"
  }
 },
 "nbformat": 4,
 "nbformat_minor": 2
}
