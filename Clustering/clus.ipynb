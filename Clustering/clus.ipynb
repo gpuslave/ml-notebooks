{
 "cells": [
  {
   "cell_type": "code",
   "execution_count": 22,
   "metadata": {},
   "outputs": [
    {
     "name": "stdout",
     "output_type": "stream",
     "text": [
      "[[[1 2 1]\n",
      "  [3 1 2]]\n",
      "\n",
      " [[2 1 1]\n",
      "  [1 0 3]]\n",
      "\n",
      " [[3 2 1]\n",
      "  [1 0 0]]] (3, 2, 3)\n",
      "[[1 2 1]\n",
      " [3 1 2]\n",
      " [2 1 1]\n",
      " [1 0 3]\n",
      " [3 2 1]\n",
      " [1 0 0]]\n",
      "   red  green  blue\n",
      "0    1      2     1\n",
      "1    3      1     2\n",
      "2    2      1     1\n",
      "3    1      0     3\n",
      "4    3      2     1\n",
      "5    1      0     0\n"
     ]
    }
   ],
   "source": [
    "import numpy as np\n",
    "import pandas as pd\n",
    "\n",
    "arr = np.array(\n",
    "    [\n",
    "        [\n",
    "            [1, 2, 1],\n",
    "            [3, 1, 2],\n",
    "        ],\n",
    "        [\n",
    "            [2, 1, 1],\n",
    "            [1, 0, 3],\n",
    "        ],\n",
    "        [\n",
    "            [3, 2, 1],\n",
    "            [1, 0, 0],\n",
    "        ],\n",
    "    ]\n",
    ")\n",
    "print(arr, arr.shape)\n",
    "print(arr.reshape(-1, 3))\n",
    "df = pd.DataFrame(arr.reshape(-1, 3), columns=[\"red\", \"green\", \"blue\"])\n",
    "print(df)\n"
   ]
  },
  {
   "cell_type": "code",
   "execution_count": 27,
   "metadata": {},
   "outputs": [],
   "source": [
    "from ucimlrepo import fetch_ucirepo\n",
    "from sklearn.preprocessing import OrdinalEncoder\n",
    "\n",
    "ai4i_2020_predictive_maintenance_dataset = fetch_ucirepo(id=601) \n",
    "  \n",
    "X = ai4i_2020_predictive_maintenance_dataset.data.features \n",
    "y = ai4i_2020_predictive_maintenance_dataset.data.targets \n"
   ]
  },
  {
   "cell_type": "code",
   "execution_count": 31,
   "metadata": {},
   "outputs": [
    {
     "name": "stdout",
     "output_type": "stream",
     "text": [
      "      Type  Air temperature  Process temperature  Rotational speed  Torque  \\\n",
      "0      2.0            298.1                308.6              1551    42.8   \n",
      "1      1.0            298.2                308.7              1408    46.3   \n",
      "2      1.0            298.1                308.5              1498    49.4   \n",
      "3      1.0            298.2                308.6              1433    39.5   \n",
      "4      1.0            298.2                308.7              1408    40.0   \n",
      "...    ...              ...                  ...               ...     ...   \n",
      "9995   2.0            298.8                308.4              1604    29.5   \n",
      "9996   0.0            298.9                308.4              1632    31.8   \n",
      "9997   2.0            299.0                308.6              1645    33.4   \n",
      "9998   0.0            299.0                308.7              1408    48.5   \n",
      "9999   2.0            299.0                308.7              1500    40.2   \n",
      "\n",
      "      Tool wear  \n",
      "0             0  \n",
      "1             3  \n",
      "2             5  \n",
      "3             7  \n",
      "4             9  \n",
      "...         ...  \n",
      "9995         14  \n",
      "9996         17  \n",
      "9997         22  \n",
      "9998         25  \n",
      "9999         30  \n",
      "\n",
      "[10000 rows x 6 columns]\n",
      "(10000, 6)\n"
     ]
    }
   ],
   "source": [
    "categorical = X.select_dtypes(include=[\"object\"]).columns\n",
    "ord_enc = OrdinalEncoder()\n",
    "X[categorical] = ord_enc.fit_transform(X[categorical])\n",
    "print(X)\n",
    "print(X.shape)"
   ]
  },
  {
   "cell_type": "code",
   "execution_count": 25,
   "metadata": {},
   "outputs": [
    {
     "name": "stdout",
     "output_type": "stream",
     "text": [
      "      Machine failure  TWF  HDF  PWF  OSF  RNF\n",
      "50                  1    0    0    1    0    0\n",
      "69                  1    0    0    1    1    0\n",
      "77                  1    1    0    0    0    0\n",
      "160                 1    0    0    0    1    0\n",
      "161                 1    0    0    0    1    0\n",
      "...               ...  ...  ...  ...  ...  ...\n",
      "9758                1    1    0    0    0    0\n",
      "9764                1    0    0    1    0    0\n",
      "9822                1    0    0    0    1    0\n",
      "9830                1    0    0    0    1    0\n",
      "9974                1    0    0    1    1    0\n",
      "\n",
      "[357 rows x 6 columns]\n"
     ]
    }
   ],
   "source": [
    "print(y[(y!=0).any(axis=1)])"
   ]
  },
  {
   "cell_type": "code",
   "execution_count": null,
   "metadata": {},
   "outputs": [],
   "source": []
  }
 ],
 "metadata": {
  "kernelspec": {
   "display_name": ".venv",
   "language": "python",
   "name": "python3"
  },
  "language_info": {
   "codemirror_mode": {
    "name": "ipython",
    "version": 3
   },
   "file_extension": ".py",
   "mimetype": "text/x-python",
   "name": "python",
   "nbconvert_exporter": "python",
   "pygments_lexer": "ipython3",
   "version": "3.12.5"
  }
 },
 "nbformat": 4,
 "nbformat_minor": 2
}
